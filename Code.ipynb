{
 "cells": [
  {
   "cell_type": "code",
   "execution_count": null,
   "metadata": {},
   "outputs": [],
   "source": []
  },
  {
   "cell_type": "code",
   "execution_count": 1,
   "metadata": {},
   "outputs": [
    {
     "name": "stdout",
     "output_type": "stream",
     "text": [
      "pygame 2.0.0 (SDL 2.0.12, python 3.8.5)\n",
      "Hello from the pygame community. https://www.pygame.org/contribute.html\n"
     ]
    }
   ],
   "source": [
    "import pygame\n",
    "import time\n",
    "import sys\n",
    "import random"
   ]
  },
  {
   "cell_type": "code",
   "execution_count": 2,
   "metadata": {},
   "outputs": [],
   "source": [
    "white = (255, 255, 255)\n",
    "red = (255, 0, 0)\n",
    "green = (0, 255, 0)\n",
    "blue = (0, 0, 255)"
   ]
  },
  {
   "cell_type": "code",
   "execution_count": 3,
   "metadata": {
    "scrolled": true
   },
   "outputs": [],
   "source": [
    "# le ball\n",
    "# window = (400, 400)\n",
    "# speed = [5, 5]\n",
    "# screen = pygame.display.set_mode(window)\n",
    "# obj = pygame.Rect((100, 0), (10, 10))\n",
    "# surface = pygame.Surface(window)\n",
    "# surface.fill((255,255,255))\n",
    "# pygame.draw.rect(surface, (0, 0, 0), pygame.Rect((0, 0), (10, 10)))\n",
    "# while True:\n",
    " \n",
    "#     obj = obj.move(speed)\n",
    "#     if obj.left < 0 or obj.right > 400:\n",
    "#         speed[0] = -speed[0]\n",
    "#     if obj.top < 0 or obj.bottom > 400:\n",
    "#         speed[1] = -speed[1]\n",
    "\n",
    "#     screen.fill((255, 255, 255))\n",
    "#     screen.blit(surface, obj)\n",
    "#     pygame.display.flip()\n",
    "#     time.sleep(0.1)\n",
    "    \n",
    "#     for event in pygame.event.get():\n",
    "#         if event.type == pygame.QUIT:\n",
    "#             pygame.quit()\n",
    "#             break"
   ]
  },
  {
   "cell_type": "code",
   "execution_count": 16,
   "metadata": {},
   "outputs": [
    {
     "ename": "error",
     "evalue": "display Surface quit",
     "output_type": "error",
     "traceback": [
      "\u001b[0;31m---------------------------------------------------------------------------\u001b[0m",
      "\u001b[0;31merror\u001b[0m                                     Traceback (most recent call last)",
      "\u001b[0;32m<ipython-input-16-63d9d50ad33e>\u001b[0m in \u001b[0;36m<module>\u001b[0;34m\u001b[0m\n\u001b[1;32m     14\u001b[0m \u001b[0;31m# pygame.draw.rect(surface, (0, 0, 0), pygame.Rect((0, 0), (10, 10)))\u001b[0m\u001b[0;34m\u001b[0m\u001b[0;34m\u001b[0m\u001b[0;34m\u001b[0m\u001b[0m\n\u001b[1;32m     15\u001b[0m \u001b[0;32mwhile\u001b[0m \u001b[0;32mTrue\u001b[0m\u001b[0;34m:\u001b[0m\u001b[0;34m\u001b[0m\u001b[0;34m\u001b[0m\u001b[0m\n\u001b[0;32m---> 16\u001b[0;31m     \u001b[0mscreen\u001b[0m\u001b[0;34m.\u001b[0m\u001b[0mfill\u001b[0m\u001b[0;34m(\u001b[0m\u001b[0;34m(\u001b[0m\u001b[0;36m255\u001b[0m\u001b[0;34m,\u001b[0m \u001b[0;36m255\u001b[0m\u001b[0;34m,\u001b[0m \u001b[0;36m255\u001b[0m\u001b[0;34m)\u001b[0m\u001b[0;34m)\u001b[0m\u001b[0;34m\u001b[0m\u001b[0;34m\u001b[0m\u001b[0m\n\u001b[0m\u001b[1;32m     17\u001b[0m     \u001b[0mstep\u001b[0m \u001b[0;34m=\u001b[0m \u001b[0;36m15\u001b[0m\u001b[0;34m\u001b[0m\u001b[0;34m\u001b[0m\u001b[0m\n\u001b[1;32m     18\u001b[0m \u001b[0;34m\u001b[0m\u001b[0m\n",
      "\u001b[0;31merror\u001b[0m: display Surface quit"
     ]
    }
   ],
   "source": [
    "# le brownian ball\n",
    "window = (400, 400)\n",
    "screen = pygame.display.set_mode(window)\n",
    "p1 = pygame.Rect((0, 0), (10, 10))\n",
    "p2 = pygame.Rect((0, 0), (10, 10))\n",
    "objs = [p1, p2]\n",
    "s1 = pygame.Surface((10, 10))\n",
    "s2 = pygame.Surface((10, 10))\n",
    "surfs = [s1, s2]\n",
    "\n",
    "\n",
    "s1.fill(red)\n",
    "s2.fill(blue)\n",
    "# pygame.draw.rect(surface, (0, 0, 0), pygame.Rect((0, 0), (10, 10)))\n",
    "while True:\n",
    "    screen.fill((255, 255, 255))\n",
    "    step = 15\n",
    "    \n",
    "    # le colision detection\n",
    "    \n",
    "    \n",
    "    for i in range(len(objs)):\n",
    "        x = random.randint(-step, step)\n",
    "        y = random.randint(-step, step)\n",
    "\n",
    "        if objs[i].left - step <= 0:\n",
    "            x = step\n",
    "        if objs[i].right + step >= 400:\n",
    "            x = -step\n",
    "        if objs[i].top - step <= 0:\n",
    "            y = step\n",
    "        if objs[i].bottom + step >= 400:\n",
    "            y = -step\n",
    "\n",
    "        objs[i] = objs[i].move((x, y))\n",
    "\n",
    "        # blit surf to screen at position of obj\n",
    "        screen.blit(surfs[i], objs[i])\n",
    "\n",
    "    pygame.display.flip()\n",
    "    time.sleep(0.01)\n",
    "    \n",
    "        \n",
    "    for event in pygame.event.get():\n",
    "        if event.type == pygame.QUIT:\n",
    "            pygame.quit()\n",
    "            break"
   ]
  },
  {
   "cell_type": "code",
   "execution_count": null,
   "metadata": {},
   "outputs": [],
   "source": [
    "??screen.blit"
   ]
  },
  {
   "cell_type": "code",
   "execution_count": 32,
   "metadata": {},
   "outputs": [
    {
     "data": {
      "text/plain": [
       "0"
      ]
     },
     "execution_count": 32,
     "metadata": {},
     "output_type": "execute_result"
    }
   ],
   "source": [
    "p1.top"
   ]
  },
  {
   "cell_type": "code",
   "execution_count": null,
   "metadata": {},
   "outputs": [],
   "source": [
    "# le brandon\n",
    "window = (400, 400)\n",
    "screen = pygame.display.set_mode(window)\n",
    "\n",
    "\n",
    "p1 = pygame.Rect((0, 0), (10, 10))\n",
    "p2 = pygame.Rect((0, 0), (10, 10))\n",
    "objs = [p1, p2]\n",
    "s1 = pygame.Surface((10, 10))\n",
    "s2 = pygame.Surface((10, 10))\n",
    "surfs = [s1, s2]\n",
    "\n",
    "\n",
    "s1.fill(red)\n",
    "s2.fill(blue)\n",
    "# pygame.draw.rect(surface, (0, 0, 0), pygame.Rect((0, 0), (10, 10)))\n",
    "while True:\n",
    "    screen.fill((255, 255, 255))\n",
    "    step = 15\n",
    "    \n",
    "    # le colision detection\n",
    "    \n",
    "    \n",
    "    for i in range(len(objs)):\n",
    "        x = random.randint(-step, step)\n",
    "        y = random.randint(-step, step)\n",
    "\n",
    "        if objs[i].left - step <= 0:\n",
    "            x = step\n",
    "        if objs[i].right + step >= 400:\n",
    "            x = -step\n",
    "        if objs[i].top - step <= 0:\n",
    "            y = step\n",
    "        if objs[i].bottom + step >= 400:\n",
    "            y = -step\n",
    "\n",
    "        objs[i] = objs[i].move((x, y))\n",
    "\n",
    "        # blit surf to screen at position of obj\n",
    "        screen.blit(surfs[i], objs[i])\n",
    "\n",
    "    pygame.display.flip()\n",
    "    time.sleep(0.01)\n",
    "    \n",
    "        \n",
    "    for event in pygame.event.get():\n",
    "        if event.type == pygame.QUIT:\n",
    "            pygame.quit()\n",
    "            break"
   ]
  },
  {
   "cell_type": "code",
   "execution_count": 34,
   "metadata": {},
   "outputs": [],
   "source": [
    "test = pygame.Rect((0,0), (10, 10))"
   ]
  },
  {
   "cell_type": "markdown",
   "metadata": {},
   "source": [
    "* get position of rect obj with obj.x, obj.y"
   ]
  },
  {
   "cell_type": "code",
   "execution_count": 15,
   "metadata": {},
   "outputs": [
    {
     "data": {
      "text/plain": [
       "<rect(10, 10, 20, 30)>"
      ]
     },
     "execution_count": 15,
     "metadata": {},
     "output_type": "execute_result"
    }
   ],
   "source": [
    "# how to draw a rect:\n",
    "window = (400, 400)\n",
    "screen = pygame.display.set_mode(window)\n",
    "x, y, h, w = 10, 10, 20, 30\n",
    "pygame.draw.rect(screen, (255, 0, 0), (x, y, h, w))"
   ]
  },
  {
   "cell_type": "code",
   "execution_count": 12,
   "metadata": {},
   "outputs": [],
   "source": [
    "??pygame.draw.rect"
   ]
  },
  {
   "cell_type": "code",
   "execution_count": 17,
   "metadata": {},
   "outputs": [
    {
     "name": "stdout",
     "output_type": "stream",
     "text": [
      "On branch master\r\n",
      "Changes not staged for commit:\r\n",
      "  (use \"git add <file>...\" to update what will be committed)\r\n",
      "  (use \"git restore <file>...\" to discard changes in working directory)\r\n",
      "\t\u001b[31mmodified:   Code.ipynb\u001b[m\r\n",
      "\r\n",
      "Untracked files:\r\n",
      "  (use \"git add <file>...\" to include in what will be committed)\r\n",
      "\t\u001b[31m.ipynb_checkpoints/\u001b[m\r\n",
      "\r\n",
      "no changes added to commit (use \"git add\" and/or \"git commit -a\")\r\n"
     ]
    }
   ],
   "source": [
    "!git status"
   ]
  },
  {
   "cell_type": "code",
   "execution_count": 18,
   "metadata": {},
   "outputs": [],
   "source": [
    "!git add *"
   ]
  },
  {
   "cell_type": "code",
   "execution_count": 19,
   "metadata": {},
   "outputs": [
    {
     "name": "stdout",
     "output_type": "stream",
     "text": [
      "[master e9adf5d] red and blue boyz\r\n",
      " 1 file changed, 318 insertions(+), 170 deletions(-)\r\n",
      " rewrite Code.ipynb (63%)\r\n"
     ]
    }
   ],
   "source": [
    "!git commit -m \"red and blue boyz\""
   ]
  },
  {
   "cell_type": "code",
   "execution_count": null,
   "metadata": {},
   "outputs": [],
   "source": []
  }
 ],
 "metadata": {
  "kernelspec": {
   "display_name": "Python 3",
   "language": "python",
   "name": "python3"
  },
  "language_info": {
   "codemirror_mode": {
    "name": "ipython",
    "version": 3
   },
   "file_extension": ".py",
   "mimetype": "text/x-python",
   "name": "python",
   "nbconvert_exporter": "python",
   "pygments_lexer": "ipython3",
   "version": "3.8.5"
  }
 },
 "nbformat": 4,
 "nbformat_minor": 4
}
